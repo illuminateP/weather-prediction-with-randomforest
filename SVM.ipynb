{
 "cells": [
  {
   "cell_type": "code",
   "execution_count": null,
   "id": "fd52364f-7d65-4d93-9b05-09b518436d92",
   "metadata": {},
   "outputs": [],
   "source": [
    "titanic = sns.load_dataset('titanic')\n",
    "imputer = SimpleImputer(strategy = 'mean')\n",
    "\n",
    "X = titanic[['pclass','sex','age','sibsp','parch','fare']]\n",
    "Y = titanic['survived']\n",
    "\n",
    "\n",
    "X['age'] = imputer.fit_transform(X[['age']])\n",
    "X['sex'] = LabelEncoder().fit_transform(X['sex'])\n",
    "X['fare'] = imputer.fit_transform(X[['fare']])\n",
    "\n",
    "X_train, X_test, Y_train, Y_test = train_test_split(X, Y, test_size = 0.2)\n",
    "\n",
    "scaler = StandardScaler()\n",
    "X = pd.DataFrame(scaler.fit_transform(X), columns = X.columns)\n",
    "model = AdaBoostClassifier(n_estimators = 100, learning_rate = 0.05, random_state = 42)\n",
    "model.fit(X_train, Y_train)\n",
    "\n",
    "y_pred = model.predict(X_test)\n",
    "scores = f1_score(Y_test,y_pred)\n",
    "scores\n",
    "\n",
    "from sklearn.svm import SVC \n",
    "svm_model = SVC(kernel='linear', random_state=42)  \n",
    "svm_model.fit(X_train, Y_train)\n",
    "svm_pred = svm_model.predict(X_test)\n",
    "svm_score = f1_score(Y_test, svm_pred)\n",
    "print(f\"SVM F1 Score: {svm_score}\")\n",
    "\n",
    "from sklearn.ensemble import RandomForestClassifier\n",
    "rf_model = RandomForestClassifier(n_estimators=100, random_state=42)\n",
    "rf_model.fit(X_train, Y_train)\n",
    "\n",
    "rf_pred = rf_model.predict(X_test)\n",
    "rf_score = f1_score(Y_test, rf_pred)\n",
    "print(f\"Random Forest F1 Score: {rf_score}\")"
   ]
  },
  {
   "cell_type": "code",
   "execution_count": null,
   "id": "e5f24dda-3f76-483f-83b5-6db33af74d90",
   "metadata": {},
   "outputs": [],
   "source": []
  }
 ],
 "metadata": {
  "kernelspec": {
   "display_name": "Python 3 (ipykernel)",
   "language": "python",
   "name": "python3"
  },
  "language_info": {
   "codemirror_mode": {
    "name": "ipython",
    "version": 3
   },
   "file_extension": ".py",
   "mimetype": "text/x-python",
   "name": "python",
   "nbconvert_exporter": "python",
   "pygments_lexer": "ipython3",
   "version": "3.10.16"
  }
 },
 "nbformat": 4,
 "nbformat_minor": 5
}
