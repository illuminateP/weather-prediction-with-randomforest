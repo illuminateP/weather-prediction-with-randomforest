{
 "cells": [
  {
   "cell_type": "code",
   "execution_count": 1,
   "id": "77a39f7b-895e-43de-ac89-0813edbb5c2e",
   "metadata": {},
   "outputs": [],
   "source": [
    "from sklearn.metrics import accuracy_score, f1_score\n",
    "from sklearn.ensemble import RandomForestClassifier\n",
    "from sklearn.impute import SimpleImputer"
   ]
  },
  {
   "cell_type": "code",
   "execution_count": 2,
   "id": "0fe12d82-f277-4d40-bbc8-aa3a1becc949",
   "metadata": {},
   "outputs": [],
   "source": [
    "import pandas as pd\n",
    "import numpy as np"
   ]
  },
  {
   "cell_type": "code",
   "execution_count": 3,
   "id": "d1391408-8b8e-404d-8317-a6fca24adfdf",
   "metadata": {},
   "outputs": [],
   "source": [
    "# 데이터 불러오기\n",
    "train = pd.read_csv('multi-train.csv')\n",
    "test = pd.read_csv('binary-test.csv')"
   ]
  },
  {
   "cell_type": "code",
   "execution_count": 4,
   "id": "af737346-4194-4f6e-8cfe-d692cf4d6fe5",
   "metadata": {},
   "outputs": [
    {
     "data": {
      "text/html": [
       "<div>\n",
       "<style scoped>\n",
       "    .dataframe tbody tr th:only-of-type {\n",
       "        vertical-align: middle;\n",
       "    }\n",
       "\n",
       "    .dataframe tbody tr th {\n",
       "        vertical-align: top;\n",
       "    }\n",
       "\n",
       "    .dataframe thead th {\n",
       "        text-align: right;\n",
       "    }\n",
       "</style>\n",
       "<table border=\"1\" class=\"dataframe\">\n",
       "  <thead>\n",
       "    <tr style=\"text-align: right;\">\n",
       "      <th></th>\n",
       "      <th>Temperature</th>\n",
       "      <th>Humidity</th>\n",
       "      <th>Wind Speed</th>\n",
       "      <th>Precipitation (%)</th>\n",
       "      <th>Atmospheric Pressure</th>\n",
       "      <th>UV Index</th>\n",
       "      <th>Season</th>\n",
       "      <th>Visibility (km)</th>\n",
       "      <th>Location</th>\n",
       "      <th>Weather Type</th>\n",
       "    </tr>\n",
       "  </thead>\n",
       "  <tbody>\n",
       "    <tr>\n",
       "      <th>count</th>\n",
       "      <td>2112.000000</td>\n",
       "      <td>2112.000000</td>\n",
       "      <td>2112.000000</td>\n",
       "      <td>2112.000000</td>\n",
       "      <td>2112.000000</td>\n",
       "      <td>2112.000000</td>\n",
       "      <td>2112.000000</td>\n",
       "      <td>2112.000000</td>\n",
       "      <td>2112.000000</td>\n",
       "      <td>2112.000000</td>\n",
       "    </tr>\n",
       "    <tr>\n",
       "      <th>mean</th>\n",
       "      <td>18.422348</td>\n",
       "      <td>69.244318</td>\n",
       "      <td>9.864110</td>\n",
       "      <td>54.307765</td>\n",
       "      <td>1005.887827</td>\n",
       "      <td>3.911932</td>\n",
       "      <td>2.463068</td>\n",
       "      <td>5.426136</td>\n",
       "      <td>1.115530</td>\n",
       "      <td>1.533144</td>\n",
       "    </tr>\n",
       "    <tr>\n",
       "      <th>std</th>\n",
       "      <td>17.320088</td>\n",
       "      <td>20.029442</td>\n",
       "      <td>6.990655</td>\n",
       "      <td>32.213802</td>\n",
       "      <td>36.385233</td>\n",
       "      <td>3.822173</td>\n",
       "      <td>1.636729</td>\n",
       "      <td>3.393991</td>\n",
       "      <td>0.787699</td>\n",
       "      <td>1.125410</td>\n",
       "    </tr>\n",
       "    <tr>\n",
       "      <th>min</th>\n",
       "      <td>-22.000000</td>\n",
       "      <td>20.000000</td>\n",
       "      <td>0.000000</td>\n",
       "      <td>0.000000</td>\n",
       "      <td>802.470000</td>\n",
       "      <td>0.000000</td>\n",
       "      <td>0.000000</td>\n",
       "      <td>0.000000</td>\n",
       "      <td>0.000000</td>\n",
       "      <td>0.000000</td>\n",
       "    </tr>\n",
       "    <tr>\n",
       "      <th>25%</th>\n",
       "      <td>3.000000</td>\n",
       "      <td>58.000000</td>\n",
       "      <td>5.000000</td>\n",
       "      <td>20.000000</td>\n",
       "      <td>993.960000</td>\n",
       "      <td>1.000000</td>\n",
       "      <td>1.000000</td>\n",
       "      <td>3.000000</td>\n",
       "      <td>0.000000</td>\n",
       "      <td>1.000000</td>\n",
       "    </tr>\n",
       "    <tr>\n",
       "      <th>50%</th>\n",
       "      <td>20.000000</td>\n",
       "      <td>70.000000</td>\n",
       "      <td>9.000000</td>\n",
       "      <td>59.000000</td>\n",
       "      <td>1007.275000</td>\n",
       "      <td>3.000000</td>\n",
       "      <td>3.000000</td>\n",
       "      <td>5.000000</td>\n",
       "      <td>1.000000</td>\n",
       "      <td>2.000000</td>\n",
       "    </tr>\n",
       "    <tr>\n",
       "      <th>75%</th>\n",
       "      <td>30.000000</td>\n",
       "      <td>84.000000</td>\n",
       "      <td>13.500000</td>\n",
       "      <td>83.000000</td>\n",
       "      <td>1016.575000</td>\n",
       "      <td>7.000000</td>\n",
       "      <td>4.000000</td>\n",
       "      <td>7.500000</td>\n",
       "      <td>2.000000</td>\n",
       "      <td>3.000000</td>\n",
       "    </tr>\n",
       "    <tr>\n",
       "      <th>max</th>\n",
       "      <td>97.000000</td>\n",
       "      <td>109.000000</td>\n",
       "      <td>46.500000</td>\n",
       "      <td>109.000000</td>\n",
       "      <td>1199.210000</td>\n",
       "      <td>14.000000</td>\n",
       "      <td>4.000000</td>\n",
       "      <td>20.000000</td>\n",
       "      <td>2.000000</td>\n",
       "      <td>3.000000</td>\n",
       "    </tr>\n",
       "  </tbody>\n",
       "</table>\n",
       "</div>"
      ],
      "text/plain": [
       "       Temperature     Humidity   Wind Speed  Precipitation (%)  \\\n",
       "count  2112.000000  2112.000000  2112.000000        2112.000000   \n",
       "mean     18.422348    69.244318     9.864110          54.307765   \n",
       "std      17.320088    20.029442     6.990655          32.213802   \n",
       "min     -22.000000    20.000000     0.000000           0.000000   \n",
       "25%       3.000000    58.000000     5.000000          20.000000   \n",
       "50%      20.000000    70.000000     9.000000          59.000000   \n",
       "75%      30.000000    84.000000    13.500000          83.000000   \n",
       "max      97.000000   109.000000    46.500000         109.000000   \n",
       "\n",
       "       Atmospheric Pressure     UV Index       Season  Visibility (km)  \\\n",
       "count           2112.000000  2112.000000  2112.000000      2112.000000   \n",
       "mean            1005.887827     3.911932     2.463068         5.426136   \n",
       "std               36.385233     3.822173     1.636729         3.393991   \n",
       "min              802.470000     0.000000     0.000000         0.000000   \n",
       "25%              993.960000     1.000000     1.000000         3.000000   \n",
       "50%             1007.275000     3.000000     3.000000         5.000000   \n",
       "75%             1016.575000     7.000000     4.000000         7.500000   \n",
       "max             1199.210000    14.000000     4.000000        20.000000   \n",
       "\n",
       "          Location  Weather Type  \n",
       "count  2112.000000   2112.000000  \n",
       "mean      1.115530      1.533144  \n",
       "std       0.787699      1.125410  \n",
       "min       0.000000      0.000000  \n",
       "25%       0.000000      1.000000  \n",
       "50%       1.000000      2.000000  \n",
       "75%       2.000000      3.000000  \n",
       "max       2.000000      3.000000  "
      ]
     },
     "execution_count": 4,
     "metadata": {},
     "output_type": "execute_result"
    }
   ],
   "source": [
    "train.describe()"
   ]
  },
  {
   "cell_type": "code",
   "execution_count": 5,
   "id": "7a4b4907-8886-4f54-8efb-9c4f3f24d705",
   "metadata": {},
   "outputs": [
    {
     "data": {
      "text/plain": [
       "Temperature               int64\n",
       "Humidity                  int64\n",
       "Wind Speed              float64\n",
       "Precipitation (%)         int64\n",
       "Atmospheric Pressure    float64\n",
       "UV Index                  int64\n",
       "Season                    int64\n",
       "Visibility (km)         float64\n",
       "Location                  int64\n",
       "Weather Type              int64\n",
       "dtype: object"
      ]
     },
     "execution_count": 5,
     "metadata": {},
     "output_type": "execute_result"
    }
   ],
   "source": [
    "train.dtypes"
   ]
  },
  {
   "cell_type": "code",
   "execution_count": 6,
   "id": "8cdab5da-9e93-41ca-be10-39c32f18c2c6",
   "metadata": {
    "scrolled": true
   },
   "outputs": [
    {
     "data": {
      "text/plain": [
       "Temperature             0\n",
       "Humidity                0\n",
       "Wind Speed              0\n",
       "Precipitation (%)       0\n",
       "Atmospheric Pressure    0\n",
       "UV Index                0\n",
       "Season                  0\n",
       "Visibility (km)         0\n",
       "Location                0\n",
       "Weather Type            0\n",
       "dtype: int64"
      ]
     },
     "execution_count": 6,
     "metadata": {},
     "output_type": "execute_result"
    }
   ],
   "source": [
    "train.isnull().sum()"
   ]
  },
  {
   "cell_type": "markdown",
   "id": "60d0f82c-acd7-410e-b2d0-cf0ae384cbbf",
   "metadata": {},
   "source": [
    "# 데이터 전처리"
   ]
  },
  {
   "cell_type": "code",
   "execution_count": 8,
   "id": "63c64b20-ad21-467c-b886-643df7fa7534",
   "metadata": {
    "scrolled": true
   },
   "outputs": [
    {
     "data": {
      "text/html": [
       "<div>\n",
       "<style scoped>\n",
       "    .dataframe tbody tr th:only-of-type {\n",
       "        vertical-align: middle;\n",
       "    }\n",
       "\n",
       "    .dataframe tbody tr th {\n",
       "        vertical-align: top;\n",
       "    }\n",
       "\n",
       "    .dataframe thead th {\n",
       "        text-align: right;\n",
       "    }\n",
       "</style>\n",
       "<table border=\"1\" class=\"dataframe\">\n",
       "  <thead>\n",
       "    <tr style=\"text-align: right;\">\n",
       "      <th></th>\n",
       "      <th>Temperature</th>\n",
       "      <th>Humidity</th>\n",
       "      <th>Wind Speed</th>\n",
       "      <th>Precipitation (%)</th>\n",
       "      <th>Atmospheric Pressure</th>\n",
       "      <th>UV Index</th>\n",
       "      <th>Season</th>\n",
       "      <th>Visibility (km)</th>\n",
       "    </tr>\n",
       "  </thead>\n",
       "  <tbody>\n",
       "    <tr>\n",
       "      <th>0</th>\n",
       "      <td>11</td>\n",
       "      <td>96</td>\n",
       "      <td>6.0</td>\n",
       "      <td>69</td>\n",
       "      <td>990.04</td>\n",
       "      <td>3</td>\n",
       "      <td>0</td>\n",
       "      <td>1.0</td>\n",
       "    </tr>\n",
       "    <tr>\n",
       "      <th>1</th>\n",
       "      <td>-22</td>\n",
       "      <td>84</td>\n",
       "      <td>29.5</td>\n",
       "      <td>70</td>\n",
       "      <td>986.24</td>\n",
       "      <td>6</td>\n",
       "      <td>4</td>\n",
       "      <td>2.5</td>\n",
       "    </tr>\n",
       "    <tr>\n",
       "      <th>2</th>\n",
       "      <td>-6</td>\n",
       "      <td>70</td>\n",
       "      <td>18.5</td>\n",
       "      <td>83</td>\n",
       "      <td>999.96</td>\n",
       "      <td>0</td>\n",
       "      <td>4</td>\n",
       "      <td>3.0</td>\n",
       "    </tr>\n",
       "    <tr>\n",
       "      <th>3</th>\n",
       "      <td>24</td>\n",
       "      <td>38</td>\n",
       "      <td>3.5</td>\n",
       "      <td>16</td>\n",
       "      <td>1010.72</td>\n",
       "      <td>5</td>\n",
       "      <td>3</td>\n",
       "      <td>9.0</td>\n",
       "    </tr>\n",
       "    <tr>\n",
       "      <th>4</th>\n",
       "      <td>26</td>\n",
       "      <td>98</td>\n",
       "      <td>12.0</td>\n",
       "      <td>63</td>\n",
       "      <td>1008.53</td>\n",
       "      <td>3</td>\n",
       "      <td>4</td>\n",
       "      <td>2.5</td>\n",
       "    </tr>\n",
       "    <tr>\n",
       "      <th>...</th>\n",
       "      <td>...</td>\n",
       "      <td>...</td>\n",
       "      <td>...</td>\n",
       "      <td>...</td>\n",
       "      <td>...</td>\n",
       "      <td>...</td>\n",
       "      <td>...</td>\n",
       "      <td>...</td>\n",
       "    </tr>\n",
       "    <tr>\n",
       "      <th>2107</th>\n",
       "      <td>25</td>\n",
       "      <td>99</td>\n",
       "      <td>20.5</td>\n",
       "      <td>90</td>\n",
       "      <td>1004.14</td>\n",
       "      <td>0</td>\n",
       "      <td>4</td>\n",
       "      <td>2.5</td>\n",
       "    </tr>\n",
       "    <tr>\n",
       "      <th>2108</th>\n",
       "      <td>23</td>\n",
       "      <td>69</td>\n",
       "      <td>8.5</td>\n",
       "      <td>36</td>\n",
       "      <td>1015.73</td>\n",
       "      <td>1</td>\n",
       "      <td>1</td>\n",
       "      <td>9.0</td>\n",
       "    </tr>\n",
       "    <tr>\n",
       "      <th>2109</th>\n",
       "      <td>17</td>\n",
       "      <td>25</td>\n",
       "      <td>4.0</td>\n",
       "      <td>12</td>\n",
       "      <td>975.85</td>\n",
       "      <td>5</td>\n",
       "      <td>3</td>\n",
       "      <td>12.5</td>\n",
       "    </tr>\n",
       "    <tr>\n",
       "      <th>2110</th>\n",
       "      <td>1</td>\n",
       "      <td>98</td>\n",
       "      <td>2.0</td>\n",
       "      <td>81</td>\n",
       "      <td>980.59</td>\n",
       "      <td>0</td>\n",
       "      <td>4</td>\n",
       "      <td>2.0</td>\n",
       "    </tr>\n",
       "    <tr>\n",
       "      <th>2111</th>\n",
       "      <td>50</td>\n",
       "      <td>92</td>\n",
       "      <td>13.0</td>\n",
       "      <td>101</td>\n",
       "      <td>1021.03</td>\n",
       "      <td>13</td>\n",
       "      <td>3</td>\n",
       "      <td>5.0</td>\n",
       "    </tr>\n",
       "  </tbody>\n",
       "</table>\n",
       "<p>2112 rows × 8 columns</p>\n",
       "</div>"
      ],
      "text/plain": [
       "      Temperature  Humidity  Wind Speed  Precipitation (%)  \\\n",
       "0              11        96         6.0                 69   \n",
       "1             -22        84        29.5                 70   \n",
       "2              -6        70        18.5                 83   \n",
       "3              24        38         3.5                 16   \n",
       "4              26        98        12.0                 63   \n",
       "...           ...       ...         ...                ...   \n",
       "2107           25        99        20.5                 90   \n",
       "2108           23        69         8.5                 36   \n",
       "2109           17        25         4.0                 12   \n",
       "2110            1        98         2.0                 81   \n",
       "2111           50        92        13.0                101   \n",
       "\n",
       "      Atmospheric Pressure  UV Index  Season  Visibility (km)  \n",
       "0                   990.04         3       0              1.0  \n",
       "1                   986.24         6       4              2.5  \n",
       "2                   999.96         0       4              3.0  \n",
       "3                  1010.72         5       3              9.0  \n",
       "4                  1008.53         3       4              2.5  \n",
       "...                    ...       ...     ...              ...  \n",
       "2107               1004.14         0       4              2.5  \n",
       "2108               1015.73         1       1              9.0  \n",
       "2109                975.85         5       3             12.5  \n",
       "2110                980.59         0       4              2.0  \n",
       "2111               1021.03        13       3              5.0  \n",
       "\n",
       "[2112 rows x 8 columns]"
      ]
     },
     "execution_count": 8,
     "metadata": {},
     "output_type": "execute_result"
    }
   ],
   "source": [
    "train_x = train.iloc[:,:-2] # 'location' 열 제거\n",
    "train_x"
   ]
  },
  {
   "cell_type": "code",
   "execution_count": 9,
   "id": "488b6cb1-8d27-4899-8fbc-c1642c263a88",
   "metadata": {},
   "outputs": [
    {
     "data": {
      "text/plain": [
       "0       2\n",
       "1       3\n",
       "2       3\n",
       "3       0\n",
       "4       2\n",
       "       ..\n",
       "2107    2\n",
       "2108    1\n",
       "2109    0\n",
       "2110    3\n",
       "2111    0\n",
       "Name: Weather Type, Length: 2112, dtype: int64"
      ]
     },
     "execution_count": 9,
     "metadata": {},
     "output_type": "execute_result"
    }
   ],
   "source": [
    "train_y = train.iloc[:,-1] \n",
    "train_y"
   ]
  },
  {
   "cell_type": "code",
   "execution_count": 10,
   "id": "dbea8f32-e8f4-4c32-9076-a7775d2d0e47",
   "metadata": {},
   "outputs": [
    {
     "data": {
      "text/html": [
       "<div>\n",
       "<style scoped>\n",
       "    .dataframe tbody tr th:only-of-type {\n",
       "        vertical-align: middle;\n",
       "    }\n",
       "\n",
       "    .dataframe tbody tr th {\n",
       "        vertical-align: top;\n",
       "    }\n",
       "\n",
       "    .dataframe thead th {\n",
       "        text-align: right;\n",
       "    }\n",
       "</style>\n",
       "<table border=\"1\" class=\"dataframe\">\n",
       "  <thead>\n",
       "    <tr style=\"text-align: right;\">\n",
       "      <th></th>\n",
       "      <th>Temperature</th>\n",
       "      <th>Humidity</th>\n",
       "      <th>Wind Speed</th>\n",
       "      <th>Precipitation (%)</th>\n",
       "      <th>Atmospheric Pressure</th>\n",
       "      <th>UV Index</th>\n",
       "      <th>Season</th>\n",
       "      <th>Visibility (km)</th>\n",
       "    </tr>\n",
       "  </thead>\n",
       "  <tbody>\n",
       "    <tr>\n",
       "      <th>0</th>\n",
       "      <td>-7</td>\n",
       "      <td>62</td>\n",
       "      <td>16.5</td>\n",
       "      <td>51</td>\n",
       "      <td>996.48</td>\n",
       "      <td>0</td>\n",
       "      <td>4</td>\n",
       "      <td>3.5</td>\n",
       "    </tr>\n",
       "    <tr>\n",
       "      <th>1</th>\n",
       "      <td>-9</td>\n",
       "      <td>65</td>\n",
       "      <td>13.5</td>\n",
       "      <td>85</td>\n",
       "      <td>986.87</td>\n",
       "      <td>1</td>\n",
       "      <td>4</td>\n",
       "      <td>2.0</td>\n",
       "    </tr>\n",
       "    <tr>\n",
       "      <th>2</th>\n",
       "      <td>18</td>\n",
       "      <td>55</td>\n",
       "      <td>11.0</td>\n",
       "      <td>34</td>\n",
       "      <td>1003.46</td>\n",
       "      <td>1</td>\n",
       "      <td>1</td>\n",
       "      <td>7.0</td>\n",
       "    </tr>\n",
       "    <tr>\n",
       "      <th>3</th>\n",
       "      <td>-7</td>\n",
       "      <td>88</td>\n",
       "      <td>18.0</td>\n",
       "      <td>56</td>\n",
       "      <td>990.88</td>\n",
       "      <td>1</td>\n",
       "      <td>4</td>\n",
       "      <td>5.0</td>\n",
       "    </tr>\n",
       "    <tr>\n",
       "      <th>4</th>\n",
       "      <td>23</td>\n",
       "      <td>41</td>\n",
       "      <td>8.0</td>\n",
       "      <td>18</td>\n",
       "      <td>1027.83</td>\n",
       "      <td>7</td>\n",
       "      <td>3</td>\n",
       "      <td>9.5</td>\n",
       "    </tr>\n",
       "    <tr>\n",
       "      <th>...</th>\n",
       "      <td>...</td>\n",
       "      <td>...</td>\n",
       "      <td>...</td>\n",
       "      <td>...</td>\n",
       "      <td>...</td>\n",
       "      <td>...</td>\n",
       "      <td>...</td>\n",
       "      <td>...</td>\n",
       "    </tr>\n",
       "    <tr>\n",
       "      <th>523</th>\n",
       "      <td>11</td>\n",
       "      <td>67</td>\n",
       "      <td>15.0</td>\n",
       "      <td>88</td>\n",
       "      <td>1000.85</td>\n",
       "      <td>2</td>\n",
       "      <td>3</td>\n",
       "      <td>1.5</td>\n",
       "    </tr>\n",
       "    <tr>\n",
       "      <th>524</th>\n",
       "      <td>29</td>\n",
       "      <td>77</td>\n",
       "      <td>0.5</td>\n",
       "      <td>91</td>\n",
       "      <td>934.49</td>\n",
       "      <td>14</td>\n",
       "      <td>3</td>\n",
       "      <td>17.0</td>\n",
       "    </tr>\n",
       "    <tr>\n",
       "      <th>525</th>\n",
       "      <td>43</td>\n",
       "      <td>29</td>\n",
       "      <td>2.0</td>\n",
       "      <td>61</td>\n",
       "      <td>855.21</td>\n",
       "      <td>1</td>\n",
       "      <td>3</td>\n",
       "      <td>13.0</td>\n",
       "    </tr>\n",
       "    <tr>\n",
       "      <th>526</th>\n",
       "      <td>19</td>\n",
       "      <td>53</td>\n",
       "      <td>2.5</td>\n",
       "      <td>65</td>\n",
       "      <td>1191.95</td>\n",
       "      <td>5</td>\n",
       "      <td>3</td>\n",
       "      <td>17.5</td>\n",
       "    </tr>\n",
       "    <tr>\n",
       "      <th>527</th>\n",
       "      <td>33</td>\n",
       "      <td>34</td>\n",
       "      <td>10.0</td>\n",
       "      <td>2</td>\n",
       "      <td>1020.04</td>\n",
       "      <td>8</td>\n",
       "      <td>1</td>\n",
       "      <td>9.5</td>\n",
       "    </tr>\n",
       "  </tbody>\n",
       "</table>\n",
       "<p>528 rows × 8 columns</p>\n",
       "</div>"
      ],
      "text/plain": [
       "     Temperature  Humidity  Wind Speed  Precipitation (%)  \\\n",
       "0             -7        62        16.5                 51   \n",
       "1             -9        65        13.5                 85   \n",
       "2             18        55        11.0                 34   \n",
       "3             -7        88        18.0                 56   \n",
       "4             23        41         8.0                 18   \n",
       "..           ...       ...         ...                ...   \n",
       "523           11        67        15.0                 88   \n",
       "524           29        77         0.5                 91   \n",
       "525           43        29         2.0                 61   \n",
       "526           19        53         2.5                 65   \n",
       "527           33        34        10.0                  2   \n",
       "\n",
       "     Atmospheric Pressure  UV Index  Season  Visibility (km)  \n",
       "0                  996.48         0       4              3.5  \n",
       "1                  986.87         1       4              2.0  \n",
       "2                 1003.46         1       1              7.0  \n",
       "3                  990.88         1       4              5.0  \n",
       "4                 1027.83         7       3              9.5  \n",
       "..                    ...       ...     ...              ...  \n",
       "523               1000.85         2       3              1.5  \n",
       "524                934.49        14       3             17.0  \n",
       "525                855.21         1       3             13.0  \n",
       "526               1191.95         5       3             17.5  \n",
       "527               1020.04         8       1              9.5  \n",
       "\n",
       "[528 rows x 8 columns]"
      ]
     },
     "execution_count": 10,
     "metadata": {},
     "output_type": "execute_result"
    }
   ],
   "source": [
    "test_x = test.iloc[:,:-2]\n",
    "test_x"
   ]
  },
  {
   "cell_type": "code",
   "execution_count": 11,
   "id": "2cea8784-518f-4633-9a68-890584aaa11e",
   "metadata": {},
   "outputs": [
    {
     "data": {
      "text/plain": [
       "0      1\n",
       "1      1\n",
       "2      1\n",
       "3      1\n",
       "4      0\n",
       "      ..\n",
       "523    1\n",
       "524    0\n",
       "525    1\n",
       "526    1\n",
       "527    0\n",
       "Name: Weather Type, Length: 528, dtype: int64"
      ]
     },
     "execution_count": 11,
     "metadata": {},
     "output_type": "execute_result"
    }
   ],
   "source": [
    "test_y = test.iloc[:,-1]\n",
    "test_y"
   ]
  },
  {
   "cell_type": "markdown",
   "id": "6003964a-b86f-4c0e-94ee-ff2e5351446d",
   "metadata": {},
   "source": [
    "# 이진 분류 처리"
   ]
  },
  {
   "cell_type": "code",
   "execution_count": 13,
   "id": "9142eb53-37d8-4562-8d29-49efed12cc5e",
   "metadata": {},
   "outputs": [],
   "source": [
    "t_y = pd.Series() "
   ]
  },
  {
   "cell_type": "code",
   "execution_count": 14,
   "id": "05c5ae8d-e49b-4a1e-b21a-b0ef277cf52c",
   "metadata": {
    "scrolled": true
   },
   "outputs": [],
   "source": [
    "for i in range(2112):\n",
    "    if train_y[i] != 0:\n",
    "        t_y[i] = 1\n",
    "    else:\n",
    "        t_y[i] = 0\n"
   ]
  },
  {
   "cell_type": "code",
   "execution_count": 15,
   "id": "9594b1c2-87a8-4581-829a-7d5c37068f35",
   "metadata": {},
   "outputs": [
    {
     "data": {
      "text/plain": [
       "0       1\n",
       "1       1\n",
       "2       1\n",
       "3       0\n",
       "4       1\n",
       "       ..\n",
       "2107    1\n",
       "2108    1\n",
       "2109    0\n",
       "2110    1\n",
       "2111    0\n",
       "Length: 2112, dtype: int64"
      ]
     },
     "execution_count": 15,
     "metadata": {},
     "output_type": "execute_result"
    }
   ],
   "source": [
    "t_y"
   ]
  },
  {
   "cell_type": "code",
   "execution_count": 16,
   "id": "6c18ddee-7df1-438c-acb2-b520ccfbca87",
   "metadata": {
    "scrolled": true
   },
   "outputs": [
    {
     "data": {
      "text/plain": [
       "0       2\n",
       "1       3\n",
       "2       3\n",
       "3       0\n",
       "4       2\n",
       "       ..\n",
       "2107    2\n",
       "2108    1\n",
       "2109    0\n",
       "2110    3\n",
       "2111    0\n",
       "Name: Weather Type, Length: 2112, dtype: int64"
      ]
     },
     "execution_count": 16,
     "metadata": {},
     "output_type": "execute_result"
    }
   ],
   "source": [
    "train_y"
   ]
  },
  {
   "cell_type": "markdown",
   "id": "6234a6ed-7c4f-465e-984a-7a3a49c89bd2",
   "metadata": {},
   "source": [
    "# 모델 구축하기"
   ]
  },
  {
   "cell_type": "code",
   "execution_count": 18,
   "id": "0bf58b6e-3b57-4424-a9b0-ecd175994e5b",
   "metadata": {
    "scrolled": true
   },
   "outputs": [],
   "source": [
    "from sklearn.ensemble import RandomForestClassifier\n",
    "model = RandomForestClassifier(max_depth=100)\n",
    "model.fit(train_x, t_y)\n",
    "y_predict = model.predict(test_x)"
   ]
  },
  {
   "cell_type": "code",
   "execution_count": 19,
   "id": "be7d018f-0fe4-4deb-9f60-248aa7db568d",
   "metadata": {
    "scrolled": true
   },
   "outputs": [
    {
     "name": "stdout",
     "output_type": "stream",
     "text": [
      "[1 1 1 1 0 0 1 1 0 1 1 1 1 0 1 1 1 0 1 1 0 1 1 0 1 1 1 1 1 1 1 1 0 1 1 1 1\n",
      " 1 1 1 1 1 1 1 1 0 1 1 1 1 1 1 1 1 1 1 1 1 1 0 0 1 1 1 1 1 1 0 1 0 1 0 1 0\n",
      " 0 1 0 1 1 1 1 1 1 1 0 1 1 1 1 0 1 0 1 1 1 0 1 1 1 0 1 0 1 1 0 1 0 0 1 0 1\n",
      " 1 1 1 1 1 0 1 1 1 1 0 1 1 1 1 0 1 1 1 1 1 1 1 0 1 1 1 1 1 1 1 1 0 1 1 1 1\n",
      " 1 1 1 0 1 0 1 1 1 1 1 1 1 0 1 1 1 1 0 1 1 1 1 1 0 0 0 1 0 1 1 1 1 1 1 0 1\n",
      " 1 0 0 1 1 1 1 0 1 1 1 1 1 0 1 1 1 1 1 1 1 1 1 1 1 1 1 1 1 1 0 0 1 1 0 1 0\n",
      " 1 1 1 1 1 1 0 1 1 1 1 1 0 0 1 1 1 1 0 1 1 1 1 1 1 0 1 1 1 1 0 1 1 1 1 1 1\n",
      " 1 1 0 1 1 1 0 1 1 1 1 1 0 1 1 1 1 1 1 1 1 1 1 1 0 1 1 1 1 1 1 1 1 1 1 1 1\n",
      " 0 1 1 1 1 1 1 1 1 1 1 0 1 1 0 1 1 1 1 1 1 1 1 1 0 1 1 1 1 1 1 1 0 1 0 1 0\n",
      " 1 1 1 1 1 1 1 1 0 1 1 0 1 1 1 1 1 1 0 0 1 0 1 1 1 0 0 0 1 0 1 1 1 1 1 1 0\n",
      " 1 1 0 1 0 1 0 1 0 1 1 0 1 1 1 0 1 0 0 0 1 1 1 1 1 1 1 1 1 1 0 1 1 1 1 1 1\n",
      " 0 1 1 1 1 1 1 0 1 0 1 1 1 1 0 0 1 1 1 0 1 1 1 1 1 0 1 1 1 1 1 1 1 0 1 1 1\n",
      " 1 1 1 1 0 1 0 1 1 1 1 1 0 0 1 1 1 0 1 1 1 1 1 1 1 1 1 0 1 1 1 1 1 1 0 1 1\n",
      " 1 1 0 1 1 1 1 1 1 1 0 1 1 1 1 1 1 1 1 1 1 0 1 1 1 1 1 1 1 1 1 1 1 0 1 1 1\n",
      " 0 1 0 1 1 1 1 1 1 0]\n"
     ]
    }
   ],
   "source": [
    "print(y_predict)"
   ]
  },
  {
   "cell_type": "code",
   "execution_count": null,
   "id": "15df6d4b-edbd-4f48-9ef3-469a85fafeea",
   "metadata": {},
   "outputs": [],
   "source": []
  },
  {
   "cell_type": "markdown",
   "id": "84f9b273-2159-4e48-94c9-83f3d770900b",
   "metadata": {},
   "source": [
    "# f1_score"
   ]
  },
  {
   "cell_type": "code",
   "execution_count": 21,
   "id": "0f955b58-7198-4d1a-b722-02803dbaa3e3",
   "metadata": {},
   "outputs": [
    {
     "name": "stdout",
     "output_type": "stream",
     "text": [
      "f1 score = 0.9290615957007027\n"
     ]
    }
   ],
   "source": [
    "f1 = f1_score(test_y,y_predict,average='macro')\n",
    "print(f'f1 score = {f1}')"
   ]
  },
  {
   "cell_type": "markdown",
   "id": "78d3fd01-314e-4163-9324-fdefe5fc29c0",
   "metadata": {},
   "source": [
    "# accuracy"
   ]
  },
  {
   "cell_type": "code",
   "execution_count": 23,
   "id": "c52286db-66ef-4aab-85ff-3ca540737298",
   "metadata": {},
   "outputs": [
    {
     "name": "stdout",
     "output_type": "stream",
     "text": [
      "accuracy_score = 0.9507575757575758\n"
     ]
    }
   ],
   "source": [
    "acc = accuracy_score(test_y,y_predict)\n",
    "print(f'accuracy_score = {acc}')"
   ]
  }
 ],
 "metadata": {
  "kernelspec": {
   "display_name": "Python 3 (ipykernel)",
   "language": "python",
   "name": "python3"
  },
  "language_info": {
   "codemirror_mode": {
    "name": "ipython",
    "version": 3
   },
   "file_extension": ".py",
   "mimetype": "text/x-python",
   "name": "python",
   "nbconvert_exporter": "python",
   "pygments_lexer": "ipython3",
   "version": "3.10.16"
  }
 },
 "nbformat": 4,
 "nbformat_minor": 5
}
