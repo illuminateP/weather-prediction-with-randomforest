{
 "cells": [
  {
   "cell_type": "code",
   "execution_count": 8,
   "id": "a14b390a-756c-45b6-b509-cec3ccbb5ce2",
   "metadata": {},
   "outputs": [],
   "source": [
    "import pandas as pd\n",
    "import seaborn as sns\n",
    "import numpy as np\n",
    "\n",
    "from sklearn.preprocessing import StandardScaler, LabelEncoder\n",
    "from sklearn.impute import SimpleImputer\n",
    "\n",
    "from sklearn.model_selection import train_test_split\n",
    "from sklearn.ensemble import AdaBoostClassifier\n",
    "\n",
    "from sklearn.metrics import f1_score"
   ]
  },
  {
   "cell_type": "code",
   "execution_count": 30,
   "id": "1963018e-7ac3-4f29-9483-fd4dd88adb10",
   "metadata": {},
   "outputs": [
    {
     "name": "stderr",
     "output_type": "stream",
     "text": [
      "C:\\Users\\Administrator\\AppData\\Local\\Temp\\ipykernel_5548\\723213559.py:8: SettingWithCopyWarning: \n",
      "A value is trying to be set on a copy of a slice from a DataFrame.\n",
      "Try using .loc[row_indexer,col_indexer] = value instead\n",
      "\n",
      "See the caveats in the documentation: https://pandas.pydata.org/pandas-docs/stable/user_guide/indexing.html#returning-a-view-versus-a-copy\n",
      "  X['age'] = imputer.fit_transform(X[['age']])\n",
      "C:\\Users\\Administrator\\AppData\\Local\\Temp\\ipykernel_5548\\723213559.py:9: SettingWithCopyWarning: \n",
      "A value is trying to be set on a copy of a slice from a DataFrame.\n",
      "Try using .loc[row_indexer,col_indexer] = value instead\n",
      "\n",
      "See the caveats in the documentation: https://pandas.pydata.org/pandas-docs/stable/user_guide/indexing.html#returning-a-view-versus-a-copy\n",
      "  X['sex'] = LabelEncoder().fit_transform(X['sex'])\n",
      "C:\\Users\\Administrator\\AppData\\Local\\Temp\\ipykernel_5548\\723213559.py:10: SettingWithCopyWarning: \n",
      "A value is trying to be set on a copy of a slice from a DataFrame.\n",
      "Try using .loc[row_indexer,col_indexer] = value instead\n",
      "\n",
      "See the caveats in the documentation: https://pandas.pydata.org/pandas-docs/stable/user_guide/indexing.html#returning-a-view-versus-a-copy\n",
      "  X['fare'] = imputer.fit_transform(X[['fare']])\n",
      "D:\\anaconda3\\Lib\\site-packages\\sklearn\\ensemble\\_weight_boosting.py:519: FutureWarning: The SAMME.R algorithm (the default) is deprecated and will be removed in 1.6. Use the SAMME algorithm to circumvent this warning.\n",
      "  warnings.warn(\n"
     ]
    },
    {
     "data": {
      "text/plain": [
       "0.7244094488188977"
      ]
     },
     "execution_count": 30,
     "metadata": {},
     "output_type": "execute_result"
    }
   ],
   "source": [
    "titanic = sns.load_dataset('titanic')\n",
    "imputer = SimpleImputer(strategy = 'mean')\n",
    "\n",
    "X = titanic[['pclass','sex','age','sibsp','parch','fare']]\n",
    "Y = titanic['survived']\n",
    "\n",
    "\n",
    "X['age'] = imputer.fit_transform(X[['age']])\n",
    "X['sex'] = LabelEncoder().fit_transform(X['sex'])\n",
    "X['fare'] = imputer.fit_transform(X[['fare']])\n",
    "\n",
    "X_train, X_test, Y_train, Y_test = train_test_split(X, Y, test_size = 0.2)\n",
    "\n",
    "scaler = StandardScaler()\n",
    "X = pd.DataFrame(scaler.fit_transform(X), columns = X.columns)\n",
    "model = AdaBoostClassifier(n_estimators = 100, learning_rate = 0.05, random_state = 42)\n",
    "model.fit(X_train, Y_train)\n",
    "\n",
    "y_pred = model.predict(X_test)\n",
    "scores = f1_score(Y_test,y_pred)\n",
    "scores\n",
    "\n",
    "from sklearn.svm import SVC \n",
    "svm_model = SVC(kernel='linear', random_state=42)  \n",
    "svm_model.fit(X_train, Y_train)\n",
    "svm_pred = svm_model.predict(X_test)\n",
    "svm_score = f1_score(Y_test, svm_pred)\n",
    "print(f\"SVM F1 Score: {svm_score}\")\n",
    "\n",
    "from sklearn.ensemble import RandomForestClassifier\n",
    "rf_model = RandomForestClassifier(n_estimators=100, random_state=42)\n",
    "rf_model.fit(X_train, Y_train)\n",
    "\n",
    "rf_pred = rf_model.predict(X_test)\n",
    "rf_score = f1_score(Y_test, rf_pred)\n",
    "print(f\"Random Forest F1 Score: {rf_score}\")"
   ]
  },
  {
   "cell_type": "code",
   "execution_count": 32,
   "id": "4183e046-0031-4802-a97e-799f74ec59a7",
   "metadata": {},
   "outputs": [],
   "source": []
  },
  {
   "cell_type": "code",
   "execution_count": 36,
   "id": "707fe790-38ff-4702-958c-d7420adea0a8",
   "metadata": {},
   "outputs": [
    {
     "name": "stdout",
     "output_type": "stream",
     "text": [
      "SVM F1 Score: 0.7175572519083969\n"
     ]
    }
   ],
   "source": [
    "from sklearn.svm import SVC \n",
    "svm_model = SVC(kernel='linear', random_state=42)  \n",
    "svm_model.fit(X_train, Y_train)\n",
    "svm_pred = svm_model.predict(X_test)\n",
    "svm_score = f1_score(Y_test, svm_pred)\n",
    "print(f\"SVM F1 Score: {svm_score}\")"
   ]
  },
  {
   "cell_type": "code",
   "execution_count": 40,
   "id": "b9eb10cc-66f2-4ee3-bba9-bc6bad08cd4f",
   "metadata": {},
   "outputs": [],
   "source": [
    "from sklearn.ensemble import RandomForestClassifier"
   ]
  },
  {
   "cell_type": "code",
   "execution_count": 42,
   "id": "7deb453e-f0cf-494b-b74f-2c9fd848a84b",
   "metadata": {},
   "outputs": [
    {
     "name": "stdout",
     "output_type": "stream",
     "text": [
      "Random Forest F1 Score: 0.7401574803149606\n"
     ]
    }
   ],
   "source": [
    "from sklearn.ensemble import RandomForestClassifier\n",
    "rf_model = RandomForestClassifier(n_estimators=100, random_state=42)\n",
    "rf_model.fit(X_train, Y_train)\n",
    "\n",
    "rf_pred = rf_model.predict(X_test)\n",
    "rf_score = f1_score(Y_test, rf_pred)\n",
    "print(f\"Random Forest F1 Score: {rf_score}\")"
   ]
  },
  {
   "cell_type": "code",
   "execution_count": null,
   "id": "da279397-bc36-402b-94d5-1a51493200e4",
   "metadata": {},
   "outputs": [],
   "source": []
  }
 ],
 "metadata": {
  "kernelspec": {
   "display_name": "Python 3 (ipykernel)",
   "language": "python",
   "name": "python3"
  },
  "language_info": {
   "codemirror_mode": {
    "name": "ipython",
    "version": 3
   },
   "file_extension": ".py",
   "mimetype": "text/x-python",
   "name": "python",
   "nbconvert_exporter": "python",
   "pygments_lexer": "ipython3",
   "version": "3.10.16"
  }
 },
 "nbformat": 4,
 "nbformat_minor": 5
}
